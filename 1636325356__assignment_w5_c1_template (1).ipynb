{
 "cells": [
  {
   "cell_type": "markdown",
   "metadata": {},
   "source": [
    "Week 5, Assignment C1:\n",
    "\n",
    "Logistic Regression with Yahoo! Finance API in Python\n",
    "\n",
    "In this notebook, we will study Logistic Regression using the Yahoo! Finance API in Python.\n",
    "\n",
    "Please complete the lines bellow where you see \"#TODO\"."
   ]
  },
  {
   "cell_type": "code",
   "execution_count": 1,
   "metadata": {},
   "outputs": [],
   "source": [
    "#Objective 1.\n",
    "#Use this cell to import the Numpy (as np), Pandas (as pd), and YFinance (as yf) packages.\n",
    "\n",
    "import numpy as np\n",
    "import pandas as pd\n",
    "import yfinance as yf\n",
    "\n",
    "#Our work will also require some components of the Sklearn and Pandas_Datareader packages as imported below:\n",
    "\n",
    "from sklearn.linear_model import LogisticRegression\n",
    "from sklearn import metrics\n",
    "from sklearn.model_selection import cross_val_score\n",
    "from pandas_datareader import data as pdr\n",
    "yf.pdr_override()"
   ]
  },
  {
   "cell_type": "code",
   "execution_count": 2,
   "metadata": {},
   "outputs": [],
   "source": [
    "#Objective 2.\n",
    "#Select a stock symbol for a stock whose historical data is available on the Yahoo! Finance website.  Store the\n",
    "#string of your chosen symbol to the new variable \"stock_symbol\".\n",
    "\n",
    "stock_symbol = \"TSLA\""
   ]
  },
  {
   "cell_type": "code",
   "execution_count": 3,
   "metadata": {},
   "outputs": [
    {
     "name": "stdout",
     "output_type": "stream",
     "text": [
      "[*********************100%***********************]  1 of 1 completed\n"
     ]
    },
    {
     "data": {
      "text/html": [
       "<div>\n",
       "<style scoped>\n",
       "    .dataframe tbody tr th:only-of-type {\n",
       "        vertical-align: middle;\n",
       "    }\n",
       "\n",
       "    .dataframe tbody tr th {\n",
       "        vertical-align: top;\n",
       "    }\n",
       "\n",
       "    .dataframe thead th {\n",
       "        text-align: right;\n",
       "    }\n",
       "</style>\n",
       "<table border=\"1\" class=\"dataframe\">\n",
       "  <thead>\n",
       "    <tr style=\"text-align: right;\">\n",
       "      <th></th>\n",
       "      <th>Open</th>\n",
       "      <th>High</th>\n",
       "      <th>Low</th>\n",
       "      <th>Close</th>\n",
       "    </tr>\n",
       "    <tr>\n",
       "      <th>Date</th>\n",
       "      <th></th>\n",
       "      <th></th>\n",
       "      <th></th>\n",
       "      <th></th>\n",
       "    </tr>\n",
       "  </thead>\n",
       "  <tbody>\n",
       "    <tr>\n",
       "      <th>2015-12-31</th>\n",
       "      <td>47.702000</td>\n",
       "      <td>48.689999</td>\n",
       "      <td>47.674000</td>\n",
       "      <td>48.001999</td>\n",
       "    </tr>\n",
       "    <tr>\n",
       "      <th>2016-01-04</th>\n",
       "      <td>46.144001</td>\n",
       "      <td>46.276001</td>\n",
       "      <td>43.799999</td>\n",
       "      <td>44.681999</td>\n",
       "    </tr>\n",
       "    <tr>\n",
       "      <th>2016-01-05</th>\n",
       "      <td>45.271999</td>\n",
       "      <td>45.377998</td>\n",
       "      <td>44.000000</td>\n",
       "      <td>44.686001</td>\n",
       "    </tr>\n",
       "    <tr>\n",
       "      <th>2016-01-06</th>\n",
       "      <td>44.000000</td>\n",
       "      <td>44.009998</td>\n",
       "      <td>43.195999</td>\n",
       "      <td>43.807999</td>\n",
       "    </tr>\n",
       "    <tr>\n",
       "      <th>2016-01-07</th>\n",
       "      <td>42.838001</td>\n",
       "      <td>43.688000</td>\n",
       "      <td>42.734001</td>\n",
       "      <td>43.130001</td>\n",
       "    </tr>\n",
       "    <tr>\n",
       "      <th>...</th>\n",
       "      <td>...</td>\n",
       "      <td>...</td>\n",
       "      <td>...</td>\n",
       "      <td>...</td>\n",
       "    </tr>\n",
       "    <tr>\n",
       "      <th>2020-12-24</th>\n",
       "      <td>642.989990</td>\n",
       "      <td>666.090027</td>\n",
       "      <td>641.000000</td>\n",
       "      <td>661.770020</td>\n",
       "    </tr>\n",
       "    <tr>\n",
       "      <th>2020-12-28</th>\n",
       "      <td>674.510010</td>\n",
       "      <td>681.400024</td>\n",
       "      <td>660.799988</td>\n",
       "      <td>663.690002</td>\n",
       "    </tr>\n",
       "    <tr>\n",
       "      <th>2020-12-29</th>\n",
       "      <td>661.000000</td>\n",
       "      <td>669.900024</td>\n",
       "      <td>655.000000</td>\n",
       "      <td>665.989990</td>\n",
       "    </tr>\n",
       "    <tr>\n",
       "      <th>2020-12-30</th>\n",
       "      <td>672.000000</td>\n",
       "      <td>696.599976</td>\n",
       "      <td>668.359985</td>\n",
       "      <td>694.780029</td>\n",
       "    </tr>\n",
       "    <tr>\n",
       "      <th>2020-12-31</th>\n",
       "      <td>699.989990</td>\n",
       "      <td>718.719971</td>\n",
       "      <td>691.119995</td>\n",
       "      <td>705.669983</td>\n",
       "    </tr>\n",
       "  </tbody>\n",
       "</table>\n",
       "<p>1260 rows × 4 columns</p>\n",
       "</div>"
      ],
      "text/plain": [
       "                  Open        High         Low       Close\n",
       "Date                                                      \n",
       "2015-12-31   47.702000   48.689999   47.674000   48.001999\n",
       "2016-01-04   46.144001   46.276001   43.799999   44.681999\n",
       "2016-01-05   45.271999   45.377998   44.000000   44.686001\n",
       "2016-01-06   44.000000   44.009998   43.195999   43.807999\n",
       "2016-01-07   42.838001   43.688000   42.734001   43.130001\n",
       "...                ...         ...         ...         ...\n",
       "2020-12-24  642.989990  666.090027  641.000000  661.770020\n",
       "2020-12-28  674.510010  681.400024  660.799988  663.690002\n",
       "2020-12-29  661.000000  669.900024  655.000000  665.989990\n",
       "2020-12-30  672.000000  696.599976  668.359985  694.780029\n",
       "2020-12-31  699.989990  718.719971  691.119995  705.669983\n",
       "\n",
       "[1260 rows x 4 columns]"
      ]
     },
     "execution_count": 3,
     "metadata": {},
     "output_type": "execute_result"
    }
   ],
   "source": [
    "#Objective 3.\n",
    "#Use the function \"pdr.get_data_yahoo(stock_symbol, start_date, end_date)\" to generate a Pandas dataframe of\n",
    "#historical stock data for your chosen stock.  Retain only the first four columns of the dataframe.  Be sure to \n",
    "#drop any rows containing NaN's, and take a peek at the resulting dataframe to make sure everything looks good.\n",
    "\n",
    "df = pdr.get_data_yahoo(stock_symbol, \"2016-1-1\", \"2021-1-1\")\n",
    "df = df.dropna()\n",
    "df = df[[\"Open\", \"High\", \"Low\", \"Close\"]]\n",
    "df"
   ]
  },
  {
   "cell_type": "code",
   "execution_count": 4,
   "metadata": {},
   "outputs": [
    {
     "data": {
      "text/html": [
       "<div>\n",
       "<style scoped>\n",
       "    .dataframe tbody tr th:only-of-type {\n",
       "        vertical-align: middle;\n",
       "    }\n",
       "\n",
       "    .dataframe tbody tr th {\n",
       "        vertical-align: top;\n",
       "    }\n",
       "\n",
       "    .dataframe thead th {\n",
       "        text-align: right;\n",
       "    }\n",
       "</style>\n",
       "<table border=\"1\" class=\"dataframe\">\n",
       "  <thead>\n",
       "    <tr style=\"text-align: right;\">\n",
       "      <th></th>\n",
       "      <th>Close_15_Rolling</th>\n",
       "      <th>Open_1_Change</th>\n",
       "    </tr>\n",
       "    <tr>\n",
       "      <th>Date</th>\n",
       "      <th></th>\n",
       "      <th></th>\n",
       "    </tr>\n",
       "  </thead>\n",
       "  <tbody>\n",
       "    <tr>\n",
       "      <th>2016-01-22</th>\n",
       "      <td>42.237067</td>\n",
       "      <td>0.649998</td>\n",
       "    </tr>\n",
       "    <tr>\n",
       "      <th>2016-01-25</th>\n",
       "      <td>41.655333</td>\n",
       "      <td>-0.947998</td>\n",
       "    </tr>\n",
       "    <tr>\n",
       "      <th>2016-01-26</th>\n",
       "      <td>41.257334</td>\n",
       "      <td>-0.672001</td>\n",
       "    </tr>\n",
       "    <tr>\n",
       "      <th>2016-01-27</th>\n",
       "      <td>40.785867</td>\n",
       "      <td>-0.863998</td>\n",
       "    </tr>\n",
       "    <tr>\n",
       "      <th>2016-01-28</th>\n",
       "      <td>40.394667</td>\n",
       "      <td>-0.318001</td>\n",
       "    </tr>\n",
       "    <tr>\n",
       "      <th>...</th>\n",
       "      <td>...</td>\n",
       "      <td>...</td>\n",
       "    </tr>\n",
       "    <tr>\n",
       "      <th>2020-12-24</th>\n",
       "      <td>638.461336</td>\n",
       "      <td>10.789978</td>\n",
       "    </tr>\n",
       "    <tr>\n",
       "      <th>2020-12-28</th>\n",
       "      <td>642.771338</td>\n",
       "      <td>31.520020</td>\n",
       "    </tr>\n",
       "    <tr>\n",
       "      <th>2020-12-29</th>\n",
       "      <td>644.386670</td>\n",
       "      <td>-13.510010</td>\n",
       "    </tr>\n",
       "    <tr>\n",
       "      <th>2020-12-30</th>\n",
       "      <td>647.380005</td>\n",
       "      <td>11.000000</td>\n",
       "    </tr>\n",
       "    <tr>\n",
       "      <th>2020-12-31</th>\n",
       "      <td>654.126005</td>\n",
       "      <td>27.989990</td>\n",
       "    </tr>\n",
       "  </tbody>\n",
       "</table>\n",
       "<p>1246 rows × 2 columns</p>\n",
       "</div>"
      ],
      "text/plain": [
       "            Close_15_Rolling  Open_1_Change\n",
       "Date                                       \n",
       "2016-01-22         42.237067       0.649998\n",
       "2016-01-25         41.655333      -0.947998\n",
       "2016-01-26         41.257334      -0.672001\n",
       "2016-01-27         40.785867      -0.863998\n",
       "2016-01-28         40.394667      -0.318001\n",
       "...                      ...            ...\n",
       "2020-12-24        638.461336      10.789978\n",
       "2020-12-28        642.771338      31.520020\n",
       "2020-12-29        644.386670     -13.510010\n",
       "2020-12-30        647.380005      11.000000\n",
       "2020-12-31        654.126005      27.989990\n",
       "\n",
       "[1246 rows x 2 columns]"
      ]
     },
     "execution_count": 4,
     "metadata": {},
     "output_type": "execute_result"
    }
   ],
   "source": [
    "#Objective 4.\n",
    "#Use the historical data to define some predictor variables.  Add these variables to the dataframe.  Include, at a\n",
    "#minimum, (Predictor.I) the rolling average closing price over the past fifteen (15) days and (Predictor.II) the\n",
    "#change in opening price over the past one (1) day.  Be sure to again drop any rows containing NaN's, and take a\n",
    "#peek at the resulting dataframe to make sure everything looks good.  Store the dataframe as the new variable \"X\".\n",
    "\n",
    "df['Close_15_Rolling'] = df[\"Close\"].rolling(window=15).mean()\n",
    "df['Open_1_Change'] = df[\"Open\"].diff()\n",
    "df = df.dropna()\n",
    "X = df[[\"Close_15_Rolling\", \"Open_1_Change\"]]\n",
    "X"
   ]
  },
  {
   "cell_type": "code",
   "execution_count": 5,
   "metadata": {},
   "outputs": [
    {
     "data": {
      "text/plain": [
       "array([-1, -1, -1, ...,  1,  1, -1])"
      ]
     },
     "execution_count": 5,
     "metadata": {},
     "output_type": "execute_result"
    }
   ],
   "source": [
    "#Objective 5.\n",
    "#Define the target or dependent variable to be one (1) if the change in closing price over the past one (1) day is\n",
    "#nonnegative and negative one (-1) if the change in closing price over the past one (1) day is negative.  This\n",
    "#variable's values should be forward-looking (i.e., you should subtract today's price from tomorrow's price rather\n",
    "#than subtracting yesterday's price from today's price).  Store the resulting values as the new variable \"y\".  You\n",
    "#may find the \"np.where(*args)\" function to be useful.  Look it up in Numpy documentation for support.\n",
    "\n",
    "y = np.where(-df[\"Close\"].diff(-1) > 0, 1, -1)\n",
    "y"
   ]
  },
  {
   "cell_type": "code",
   "execution_count": 6,
   "metadata": {},
   "outputs": [
    {
     "name": "stdout",
     "output_type": "stream",
     "text": [
      "(872, 2) (872,) (374, 2) (374,)\n"
     ]
    }
   ],
   "source": [
    "#Objective 6.\n",
    "#Split the data into training and test sets, putting the first seventy percent (70%) of the data in the training\n",
    "#set.\n",
    "\n",
    "index = int(0.7*len(X))\n",
    "X_train, X_test, y_train, y_test = X[:index], X[index:], y[:index], y[index:]\n",
    "\n",
    "print(X_train.shape, y_train.shape, X_test.shape, y_test.shape)"
   ]
  },
  {
   "cell_type": "code",
   "execution_count": 7,
   "metadata": {},
   "outputs": [],
   "source": [
    "#Objective 7.\n",
    "#Instantiate the Logistic Regression model object, and use its \".fit(*args)\" method to fit the model to the \n",
    "#training data.\n",
    "\n",
    "logistic = LogisticRegression()\n",
    "logistic = logistic.fit(X_train, y_train)"
   ]
  },
  {
   "cell_type": "code",
   "execution_count": 8,
   "metadata": {},
   "outputs": [
    {
     "data": {
      "text/plain": [
       "(                  0                        1\n",
       " 0  Close_15_Rolling  [-0.009535808598351509]\n",
       " 1     Open_1_Change   [-0.03079283582868882],\n",
       " array([0.52755992]))"
      ]
     },
     "execution_count": 8,
     "metadata": {},
     "output_type": "execute_result"
    }
   ],
   "source": [
    "#Objective 8.\n",
    "#Examine the model's coefficients by using its \".coef_\" method.\n",
    "\n",
    "pd.DataFrame(zip(X.columns, np.transpose(logistic.coef_))), logistic.intercept_"
   ]
  },
  {
   "cell_type": "code",
   "execution_count": 9,
   "metadata": {},
   "outputs": [],
   "source": [
    "#Objective 9.\n",
    "#Use the model's \".predict_proba(*args)\" and \".predict(*args)\" methods to generate predictions over the test set.\n",
    "\n",
    "probabilities = logistic.predict_proba(X_test)\n",
    "predictions = logistic.predict(X_test)"
   ]
  },
  {
   "cell_type": "code",
   "execution_count": 10,
   "metadata": {},
   "outputs": [
    {
     "data": {
      "text/plain": [
       "array([[123,  36],\n",
       "       [174,  41]], dtype=int64)"
      ]
     },
     "execution_count": 10,
     "metadata": {},
     "output_type": "execute_result"
    }
   ],
   "source": [
    "#Objective 10.\n",
    "#Use the function \"metrics.confusion_matrix(*args)\" to create a confusion matrix comparing the predicted and true\n",
    "#classification labels over the test set.\n",
    "\n",
    "metrics.confusion_matrix(y_test, predictions)"
   ]
  },
  {
   "cell_type": "code",
   "execution_count": 11,
   "metadata": {},
   "outputs": [
    {
     "data": {
      "text/plain": [
       "0.4385026737967914"
      ]
     },
     "execution_count": 11,
     "metadata": {},
     "output_type": "execute_result"
    }
   ],
   "source": [
    "#Objective 11.\n",
    "#Calculate the model's accuracy on the test set using its \".score(*args)\" method.\n",
    "\n",
    "logistic.score(X_test, y_test)"
   ]
  },
  {
   "cell_type": "code",
   "execution_count": 12,
   "metadata": {},
   "outputs": [],
   "source": [
    "#Objective 12.\n",
    "#Use five-fold cross validation to cross-check the accuracy of the model over different held-out test sets.  This\n",
    "#is where you should use the function \"cross_val_score(*args)\".\n",
    "\n",
    "cross_val = cross_val_score(logistic ,X_test, y_test)"
   ]
  },
  {
   "cell_type": "code",
   "execution_count": 13,
   "metadata": {},
   "outputs": [
    {
     "data": {
      "text/plain": [
       "0.5748828828828829"
      ]
     },
     "execution_count": 13,
     "metadata": {},
     "output_type": "execute_result"
    }
   ],
   "source": [
    "cross_val.mean()\n"
   ]
  },
  {
   "cell_type": "code",
   "execution_count": null,
   "metadata": {},
   "outputs": [],
   "source": []
  }
 ],
 "metadata": {
  "kernelspec": {
   "display_name": "Python 3",
   "language": "python",
   "name": "python3"
  },
  "language_info": {
   "codemirror_mode": {
    "name": "ipython",
    "version": 3
   },
   "file_extension": ".py",
   "mimetype": "text/x-python",
   "name": "python",
   "nbconvert_exporter": "python",
   "pygments_lexer": "ipython3",
   "version": "3.8.8"
  }
 },
 "nbformat": 4,
 "nbformat_minor": 4
}

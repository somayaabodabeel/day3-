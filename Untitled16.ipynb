{
 "cells": [
  {
   "cell_type": "code",
   "execution_count": 7,
   "id": "480de513-9b07-4a42-971f-090ebcd0fc2e",
   "metadata": {},
   "outputs": [
    {
     "data": {
      "text/plain": [
       "Amazone    2000\n",
       "MSFT       3000\n",
       "Apple      4000\n",
       "dtype: int64"
      ]
     },
     "execution_count": 7,
     "metadata": {},
     "output_type": "execute_result"
    }
   ],
   "source": [
    "import pandas as pd\n",
    "single_value = pd.Series(5, index=[0,1,2])\n",
    "single_value\n",
    "single_value = pd.Series({'Amazone':2000,'MSFT':3000,'Apple':4000})\n",
    "single_value\n"
   ]
  },
  {
   "cell_type": "code",
   "execution_count": 8,
   "id": "e09bc6e4-6f2d-498e-add5-b1731e9b1fd5",
   "metadata": {},
   "outputs": [],
   "source": [
    "import pandas as pd"
   ]
  },
  {
   "cell_type": "code",
   "execution_count": 9,
   "id": "5a6459aa-8b15-4c8c-be63-16b6933618dd",
   "metadata": {},
   "outputs": [],
   "source": [
    "import numpy as np\n",
    "s = pd.Series([1, 3, 5, 6, 8])"
   ]
  },
  {
   "cell_type": "code",
   "execution_count": 15,
   "id": "f12483e0-0e2c-49ef-8a74-2a4f3a461822",
   "metadata": {
    "scrolled": true
   },
   "outputs": [
    {
     "data": {
      "text/plain": [
       "0    1\n",
       "1    3\n",
       "2    5\n",
       "3    6\n",
       "4    8\n",
       "dtype: int64"
      ]
     },
     "execution_count": 15,
     "metadata": {},
     "output_type": "execute_result"
    }
   ],
   "source": [
    "s"
   ]
  },
  {
   "cell_type": "code",
   "execution_count": 10,
   "id": "df2522cf-984c-45df-aa57-a077dee02210",
   "metadata": {},
   "outputs": [
    {
     "data": {
      "text/plain": [
       "Amazone     500\n",
       "MSFT       3000\n",
       "Apple      4000\n",
       "dtype: int64"
      ]
     },
     "execution_count": 10,
     "metadata": {},
     "output_type": "execute_result"
    }
   ],
   "source": [
    "single_value[0]=500\n",
    "single_value"
   ]
  },
  {
   "cell_type": "code",
   "execution_count": 11,
   "id": "de646b29-a4c0-4231-9a40-ce59e3c8bc10",
   "metadata": {},
   "outputs": [
    {
     "name": "stdout",
     "output_type": "stream",
     "text": [
      "4000\n",
      "500\n",
      "2500.0\n"
     ]
    }
   ],
   "source": [
    "print(single_value.max())\n",
    "print(single_value.min())\n",
    "print(single_value.mean())"
   ]
  },
  {
   "cell_type": "code",
   "execution_count": 12,
   "id": "93b31e1e-e1d9-4c08-a66d-6b49583236eb",
   "metadata": {},
   "outputs": [
    {
     "data": {
      "text/plain": [
       "3"
      ]
     },
     "execution_count": 12,
     "metadata": {},
     "output_type": "execute_result"
    }
   ],
   "source": [
    "single_value.size"
   ]
  },
  {
   "cell_type": "code",
   "execution_count": 18,
   "id": "4d27dd14-9245-4f8c-902e-3cbb8d2c2bea",
   "metadata": {},
   "outputs": [
    {
     "name": "stdout",
     "output_type": "stream",
     "text": [
      "4000\n",
      "500\n",
      "2500.0\n"
     ]
    }
   ],
   "source": [
    "print(single_value.max())\n",
    "print(single_value.min())\n",
    "print(single_value.mean())\n"
   ]
  },
  {
   "cell_type": "code",
   "execution_count": 13,
   "id": "ffa837d0-3289-443b-ac1b-4d7dacec5859",
   "metadata": {},
   "outputs": [
    {
     "data": {
      "text/plain": [
       "count       3.000000\n",
       "mean     2500.000000\n",
       "std      1802.775638\n",
       "min       500.000000\n",
       "25%      1750.000000\n",
       "50%      3000.000000\n",
       "75%      3500.000000\n",
       "max      4000.000000\n",
       "dtype: float64"
      ]
     },
     "execution_count": 13,
     "metadata": {},
     "output_type": "execute_result"
    }
   ],
   "source": [
    "single_value.describe()\n"
   ]
  },
  {
   "cell_type": "code",
   "execution_count": 67,
   "id": "54328ece-9a99-473f-afb4-a29c6a9b0ae6",
   "metadata": {},
   "outputs": [
    {
     "data": {
      "text/plain": [
       "MSFT     3000.00\n",
       "Apple    4000.00\n",
       "Intel      30.00\n",
       "AMD        18.25\n",
       "Intel      30.00\n",
       "AMD        18.25\n",
       "dtype: float64"
      ]
     },
     "execution_count": 67,
     "metadata": {},
     "output_type": "execute_result"
    }
   ],
   "source": [
    "second_data=pd.Series({'Intel':30, 'AMD':18.25})\n",
    "single_value=single_value.append(second_data)\n",
    "single_value"
   ]
  },
  {
   "cell_type": "code",
   "execution_count": 68,
   "id": "ec3c6121-d2c3-4839-a0c7-ff2408db890b",
   "metadata": {},
   "outputs": [
    {
     "data": {
      "text/plain": [
       "[3000.0, 4000.0, 30.0, 18.25, 30.0, 18.25]"
      ]
     },
     "execution_count": 68,
     "metadata": {},
     "output_type": "execute_result"
    }
   ],
   "source": [
    "single_value.to_list()"
   ]
  },
  {
   "cell_type": "code",
   "execution_count": 69,
   "id": "e7411142-2fe0-4669-8618-7b351f1b05fb",
   "metadata": {},
   "outputs": [
    {
     "data": {
      "text/plain": [
       "{'MSFT': 3000.0, 'Apple': 4000.0, 'Intel': 30.0, 'AMD': 18.25}"
      ]
     },
     "execution_count": 69,
     "metadata": {},
     "output_type": "execute_result"
    }
   ],
   "source": [
    "single_value.to_dict()"
   ]
  },
  {
   "cell_type": "code",
   "execution_count": 70,
   "id": "de1fb3b9-b18b-4b09-bb93-6b2b7146dca4",
   "metadata": {},
   "outputs": [
    {
     "data": {
      "text/plain": [
       "AMD        18.25\n",
       "AMD        18.25\n",
       "Intel      30.00\n",
       "Intel      30.00\n",
       "MSFT     3000.00\n",
       "Apple    4000.00\n",
       "dtype: float64"
      ]
     },
     "execution_count": 70,
     "metadata": {},
     "output_type": "execute_result"
    }
   ],
   "source": [
    "single_value.sort_values()"
   ]
  },
  {
   "cell_type": "code",
   "execution_count": 72,
   "id": "517d61e9-d3ed-404f-b47a-6edebb44f92f",
   "metadata": {},
   "outputs": [
    {
     "data": {
      "text/plain": [
       "MSFT     3000.00\n",
       "Apple    4000.00\n",
       "Intel      30.00\n",
       "AMD        18.25\n",
       "Intel      30.00\n",
       "AMD        18.25\n",
       "dtype: float64"
      ]
     },
     "execution_count": 72,
     "metadata": {},
     "output_type": "execute_result"
    }
   ],
   "source": [
    "single_value"
   ]
  },
  {
   "cell_type": "code",
   "execution_count": 3,
   "id": "1f50b9e6-c245-4cf1-a8f5-09fc0d57f61b",
   "metadata": {},
   "outputs": [
    {
     "ename": "NameError",
     "evalue": "name 'single_value' is not defined",
     "output_type": "error",
     "traceback": [
      "\u001b[1;31m---------------------------------------------------------------------------\u001b[0m",
      "\u001b[1;31mNameError\u001b[0m                                 Traceback (most recent call last)",
      "\u001b[1;32m<ipython-input-3-bb1c43347f17>\u001b[0m in \u001b[0;36m<module>\u001b[1;34m\u001b[0m\n\u001b[0;32m      1\u001b[0m \u001b[0mpd\u001b[0m\u001b[1;33m.\u001b[0m\u001b[0mformat\u001b[0m\u001b[1;33m=\u001b[0m\u001b[1;34m'SAR'\u001b[0m\u001b[1;33m.\u001b[0m\u001b[0mformat\u001b[0m\u001b[1;33m\u001b[0m\u001b[1;33m\u001b[0m\u001b[0m\n\u001b[1;32m----> 2\u001b[1;33m \u001b[0mprint\u001b[0m\u001b[1;33m(\u001b[0m\u001b[0msingle_value\u001b[0m\u001b[1;33m*\u001b[0m\u001b[1;36m3.75\u001b[0m\u001b[1;33m)\u001b[0m\u001b[1;33m\u001b[0m\u001b[1;33m\u001b[0m\u001b[0m\n\u001b[0m",
      "\u001b[1;31mNameError\u001b[0m: name 'single_value' is not defined"
     ]
    }
   ],
   "source": [
    "pd.format='SAR'.format\n",
    "print(single_value*3.75)"
   ]
  },
  {
   "cell_type": "code",
   "execution_count": null,
   "id": "98e3728a-86de-420e-b814-ad19bf4c789b",
   "metadata": {},
   "outputs": [],
   "source": [
    "\n"
   ]
  },
  {
   "cell_type": "markdown",
   "id": "85db3b58-b7ff-4683-b69c-1ddaf4059c31",
   "metadata": {},
   "source": [
    "single_value"
   ]
  },
  {
   "cell_type": "code",
   "execution_count": null,
   "id": "3c6ffc95-e26a-4952-a6d3-b76a9c5a2087",
   "metadata": {},
   "outputs": [],
   "source": []
  },
  {
   "cell_type": "code",
   "execution_count": null,
   "id": "3d3ca1cc-1884-4ed4-994e-096a34c2af2c",
   "metadata": {},
   "outputs": [],
   "source": []
  },
  {
   "cell_type": "code",
   "execution_count": null,
   "id": "969cac34-1ec3-4f04-bebb-2d5239b54127",
   "metadata": {},
   "outputs": [],
   "source": []
  },
  {
   "cell_type": "code",
   "execution_count": null,
   "id": "c6cc5da6-6423-4215-b82d-0c73582a4478",
   "metadata": {},
   "outputs": [],
   "source": []
  },
  {
   "cell_type": "code",
   "execution_count": null,
   "id": "da66342d-a3c9-43a8-86ee-5948d3e9d935",
   "metadata": {},
   "outputs": [],
   "source": []
  },
  {
   "cell_type": "code",
   "execution_count": null,
   "id": "59f9f6a8-9d61-438c-8cf8-1e937b78404d",
   "metadata": {},
   "outputs": [],
   "source": []
  },
  {
   "cell_type": "code",
   "execution_count": null,
   "id": "90007873-a2a7-401b-909f-e8c1c204e478",
   "metadata": {},
   "outputs": [],
   "source": []
  },
  {
   "cell_type": "code",
   "execution_count": null,
   "id": "0d555e2c-991b-4314-9cd4-bf2d411f91ea",
   "metadata": {},
   "outputs": [],
   "source": []
  }
 ],
 "metadata": {
  "kernelspec": {
   "display_name": "Python 3",
   "language": "python",
   "name": "python3"
  },
  "language_info": {
   "codemirror_mode": {
    "name": "ipython",
    "version": 3
   },
   "file_extension": ".py",
   "mimetype": "text/x-python",
   "name": "python",
   "nbconvert_exporter": "python",
   "pygments_lexer": "ipython3",
   "version": "3.8.8"
  }
 },
 "nbformat": 4,
 "nbformat_minor": 5
}

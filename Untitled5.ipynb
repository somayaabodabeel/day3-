{
 "cells": [
  {
   "cell_type": "code",
   "execution_count": 1,
   "id": "da1fa172-1f5c-4726-8469-28b96bc6603b",
   "metadata": {},
   "outputs": [
    {
     "name": "stdout",
     "output_type": "stream",
     "text": [
      "Guido van Rossum\n",
      "Monty Python\n",
      "*************************\n",
      "Guido van Rossum deposited 1000 into thier bank acount\n",
      "Guido van Rossum has 1000 dollars in the bank\n",
      "*************************\n",
      "Monty Python deposited 10 into thier bank acount\n",
      "Monty Python has 10 dollars in the bank\n",
      "*************************\n",
      "*************************\n",
      "1000\n",
      "*************************\n",
      "10\n",
      "*************************\n",
      "*************************\n",
      "We are making a transfer from Guido van Rossum to Monty Python with this amount 50\n",
      "Guido van Rossum took out 50 from their bank acount\n",
      "Guido van Rossum has 950 dollars in the bank\n",
      "Monty Python deposited 50 into thier bank acount\n",
      "Monty Python has 60 dollars in the bank\n",
      "*************************\n",
      "950\n",
      "*************************\n",
      "60\n",
      "*************************\n",
      "Guido van Rossum deposited 100 into thier bank acount\n",
      "Guido van Rossum has 1050 dollars in the bank\n",
      "Guido van Rossum deposited 200 into thier bank acount\n",
      "Guido van Rossum has 1250 dollars in the bank\n",
      "Guido van Rossum deposited 300 into thier bank acount\n",
      "Guido van Rossum has 1550 dollars in the bank\n",
      "Guido van Rossum took out 50 from their bank acount\n",
      "Guido van Rossum has 1500 dollars in the bank\n",
      "Guido van Rossum has 1500 dollars in the bank\n"
     ]
    },
    {
     "data": {
      "text/plain": [
       "<__main__.User at 0x1ab28259c10>"
      ]
     },
     "execution_count": 1,
     "metadata": {},
     "output_type": "execute_result"
    }
   ],
   "source": [
    "class User:\n",
    "\n",
    "    def __init__(self, name, email):\n",
    "        self.name = name\n",
    "        self.email = email\n",
    "        self.account_balance = 0\n",
    "\n",
    "    def printRunningTotal(self):\n",
    "        print(f\"{self.name} has {self.account_balance} dollars in the bank\")\n",
    "        return self\n",
    "\n",
    "    def make_withdrawal(self, amount):\n",
    "        self.account_balance -= amount\n",
    "        print(f\"{self.name} took out {amount} from their bank acount\")\n",
    "        self.printRunningTotal()\n",
    "        return self\n",
    "\n",
    "    def make_deposit(self, amount):\n",
    "        self.account_balance += amount\n",
    "        print(f\"{self.name} deposited {amount} into thier bank acount\")\n",
    "        self.printRunningTotal()\n",
    "        return self\n",
    "\n",
    "    def transfer_money(self, User, amount):\n",
    "        print(f\"We are making a transfer from {self.name} to {User.name} with this amount {amount}\")\n",
    "        self.make_withdrawal(amount)\n",
    "        User.make_deposit(amount)\n",
    "        return self\n",
    "\n",
    "\n",
    "guido = User(\"Guido van Rossum\", \"guido@python.com\")\n",
    "monty = User(\"Monty Python\", \"monty@python.com\") \n",
    "elmo = User(\"Elmo\", \"elmo@sesemestreet.com\")\n",
    "\n",
    "print(guido.name) # output: Guido van Rossum\n",
    "print(monty.name) # output: Monty Python\n",
    "\n",
    "# 1 make_withdrawal(self, amount) - have this method decrease the user's balance by the amount specified\n",
    "print('*'*25)\n",
    "guido.make_deposit(1000)\n",
    "print('*'*25)\n",
    "monty.make_deposit(10)\n",
    "print('*'*25)\n",
    "print('*'*25)\n",
    "\n",
    "print(guido.account_balance)\n",
    "print('*'*25)\n",
    "print(monty.account_balance)\n",
    "print('*'*25)\n",
    "print('*'*25)\n",
    "guido.transfer_money(monty, 50)\n",
    "print('*'*25)\n",
    "print(guido.account_balance)\n",
    "print('*'*25)\n",
    "print(monty.account_balance)\n",
    "print('*'*25)\n",
    "\n",
    "\n",
    "guido.make_deposit(100).make_deposit(200).make_deposit(300).make_withdrawal(50).printRunningTotal()"
   ]
  },
  {
   "cell_type": "code",
   "execution_count": null,
   "id": "56f83bbf-0b15-4fbe-b4cd-f2ea5d7ebbf3",
   "metadata": {},
   "outputs": [],
   "source": []
  }
 ],
 "metadata": {
  "kernelspec": {
   "display_name": "Python 3",
   "language": "python",
   "name": "python3"
  },
  "language_info": {
   "codemirror_mode": {
    "name": "ipython",
    "version": 3
   },
   "file_extension": ".py",
   "mimetype": "text/x-python",
   "name": "python",
   "nbconvert_exporter": "python",
   "pygments_lexer": "ipython3",
   "version": "3.8.8"
  }
 },
 "nbformat": 4,
 "nbformat_minor": 5
}

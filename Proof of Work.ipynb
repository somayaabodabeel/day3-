{
 "cells": [
  {
   "cell_type": "code",
   "execution_count": 1,
   "id": "b78dda5e-9bbc-4b85-bbd7-107a80ddf68c",
   "metadata": {},
   "outputs": [
    {
     "name": "stdout",
     "output_type": "stream",
     "text": [
      "The hash is: 0000000399c6aea5ad0c709a9bc331a3ed6494702bd1d129d8c817a0257a1462\n",
      "The nonce is: 665783\n",
      "Time elapsed: 0:00:01.603052\n"
     ]
    }
   ],
   "source": [
    "import hashlib # imports library with SHA-256 hashing algo\n",
    "import datetime # imports library to track time\n",
    "t1 = datetime.datetime.now() # start time\n",
    "nonce = 1 # Starts the nonce at 1\n",
    "solution = False\n",
    "while solution == False: # loop until true\n",
    "    ourhash = hashlib.sha256(str(nonce).encode()).hexdigest() # inputs nonce into hash function\n",
    "    if ourhash[:7] == '0000000': # look for hash with 7 proceeding zeros\n",
    "        solution =True # those who find the solution will have 'proved' they put in 'work'\n",
    "    nonce +=1 # increase nonce by 1 and try again\n",
    "t2 = datetime.datetime.now() # end time\n",
    "duration = t2 - t1 # time elapsed\n",
    "print (\"The hash is:\",ourhash)\n",
    "print (\"The nonce is:\",nonce)    \n",
    "print (\"Time elapsed:\",duration)"
   ]
  },
  {
   "cell_type": "code",
   "execution_count": 3,
   "id": "0374fce7-698d-4f20-91ff-4fd8f194a8c5",
   "metadata": {},
   "outputs": [
    {
     "name": "stdout",
     "output_type": "stream",
     "text": [
      "The hash is: 00000000690ed426ccf17803ebe2bd0884bcd58a1bb5e7477ead3645f356e7a9\n",
      "The nonce is: 426479725\n",
      "Time elapsed: 0:18:12.681750\n"
     ]
    }
   ],
   "source": [
    "t1 = datetime.datetime.now() \n",
    "nonce = 1 \n",
    "solution = False\n",
    "while solution == False: \n",
    "    ourhash = hashlib.sha256(str(nonce).encode()).hexdigest() \n",
    "    if ourhash[:8] == '00000000': \n",
    "        solution =True \n",
    "    nonce +=1 \n",
    "t2 = datetime.datetime.now() \n",
    "duration = t2 - t1 \n",
    "print (\"The hash is:\",ourhash)\n",
    "print (\"The nonce is:\",nonce)    \n",
    "print (\"Time elapsed:\",duration)\n",
    "    "
   ]
  },
  {
   "cell_type": "code",
   "execution_count": null,
   "id": "257ddd1c-2d7b-4cb0-aee1-7212a266b60c",
   "metadata": {},
   "outputs": [],
   "source": []
  }
 ],
 "metadata": {
  "kernelspec": {
   "display_name": "Python 3",
   "language": "python",
   "name": "python3"
  },
  "language_info": {
   "codemirror_mode": {
    "name": "ipython",
    "version": 3
   },
   "file_extension": ".py",
   "mimetype": "text/x-python",
   "name": "python",
   "nbconvert_exporter": "python",
   "pygments_lexer": "ipython3",
   "version": "3.8.8"
  }
 },
 "nbformat": 4,
 "nbformat_minor": 5
}

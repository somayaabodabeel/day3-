{
 "cells": [
  {
   "cell_type": "code",
   "execution_count": null,
   "id": "ab05ac09-5a17-4886-98a6-1b829407f6ee",
   "metadata": {},
   "outputs": [],
   "source": []
  },
  {
   "cell_type": "code",
   "execution_count": 10,
   "id": "b9237d75-2055-41da-844b-7023cbe998c9",
   "metadata": {},
   "outputs": [
    {
     "data": {
      "text/plain": [
       "array([ 0.   ,  0.125,  0.25 ,  0.375,  0.5  ,  0.625,  0.75 ,  0.875,\n",
       "        1.   ,  1.125,  1.25 ,  1.375,  1.5  ,  1.625,  1.75 ,  1.875,\n",
       "        2.   ,  2.125,  2.25 ,  2.375,  2.5  ,  2.625,  2.75 ,  2.875,\n",
       "        3.   ,  3.125,  3.25 ,  3.375,  3.5  ,  3.625,  3.75 ,  3.875,\n",
       "        4.   ,  4.125,  4.25 ,  4.375,  4.5  ,  4.625,  4.75 ,  4.875,\n",
       "        5.   ,  5.125,  5.25 ,  5.375,  5.5  ,  5.625,  5.75 ,  5.875,\n",
       "        6.   ,  6.125,  6.25 ,  6.375,  6.5  ,  6.625,  6.75 ,  6.875,\n",
       "        7.   ,  7.125,  7.25 ,  7.375,  7.5  ,  7.625,  7.75 ,  7.875,\n",
       "        8.   ,  8.125,  8.25 ,  8.375,  8.5  ,  8.625,  8.75 ,  8.875,\n",
       "        9.   ,  9.125,  9.25 ,  9.375,  9.5  ,  9.625,  9.75 ,  9.875,\n",
       "       10.   , 10.125, 10.25 , 10.375, 10.5  , 10.625, 10.75 , 10.875,\n",
       "       11.   , 11.125, 11.25 , 11.375, 11.5  , 11.625, 11.75 , 11.875,\n",
       "       12.   , 12.125, 12.25 , 12.375, 12.5  ])"
      ]
     },
     "execution_count": 10,
     "metadata": {},
     "output_type": "execute_result"
    }
   ],
   "source": [
    "import numpy as np\n",
    "x = np.arange(101)\n",
    "x / 8"
   ]
  },
  {
   "cell_type": "code",
   "execution_count": 28,
   "id": "9a9f5917-5256-4ef9-bac2-ed96569100be",
   "metadata": {},
   "outputs": [
    {
     "name": "stdout",
     "output_type": "stream",
     "text": [
      "[[20, 25], [21, 26], [22, 27], [23, 28], [24, 29], [25, 30], [26, 31], [27, 32], [28, 33], [29, 34], [30, 35], [31, 36], [32, 37], [33, 38], [34, 39], [35, 40], [36, 41], [37, 42], [38, 43], [39, 44], [40, 45], [41, 46], [42, 47], [43, 48], [44, 49], [45, 50], [46, 51], [47, 52], [48, 53], [49, 54], [50, 55], [51, 56], [52, 57], [53, 58], [54, 59], [55, 60]]\n"
     ]
    }
   ],
   "source": [
    "start      = 20  \n",
    "end        = 60    \n",
    "slice_size = 6   \n",
    "\n",
    "result = [[current, current + slice_size - 1] for current in range(start, end - slice_size + 2, slice_size // 5)]\n",
    "print(result)"
   ]
  },
  {
   "cell_type": "code",
   "execution_count": 33,
   "id": "2bc3dca0-e0e7-4052-bd7c-d2b355dbf56a",
   "metadata": {},
   "outputs": [],
   "source": [
    "imnp.sign([7, 4.5])"
   ]
  },
  {
   "cell_type": "code",
   "execution_count": null,
   "id": "3b1f73b3-1619-4f07-931f-cc0930cca7b5",
   "metadata": {},
   "outputs": [],
   "source": []
  },
  {
   "cell_type": "code",
   "execution_count": null,
   "id": "5b4ae544-06ce-4011-9b94-33546d768629",
   "metadata": {},
   "outputs": [],
   "source": []
  }
 ],
 "metadata": {
  "kernelspec": {
   "display_name": "Python 3",
   "language": "python",
   "name": "python3"
  },
  "language_info": {
   "codemirror_mode": {
    "name": "ipython",
    "version": 3
   },
   "file_extension": ".py",
   "mimetype": "text/x-python",
   "name": "python",
   "nbconvert_exporter": "python",
   "pygments_lexer": "ipython3",
   "version": "3.8.8"
  }
 },
 "nbformat": 4,
 "nbformat_minor": 5
}

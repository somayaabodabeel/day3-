{
 "cells": [
  {
   "cell_type": "code",
   "execution_count": 17,
   "id": "37232f11-3711-4957-8ece-60b8ab35dba0",
   "metadata": {},
   "outputs": [
    {
     "name": "stdout",
     "output_type": "stream",
     "text": [
      "first_name - Michael, last_name - Jordan\n",
      "first_name - John, last_name - Rosales\n",
      "first_name - Mark, last_name - Guillen\n",
      "first_name - KB, last_name - Tonel\n",
      "-------------------------\n"
     ]
    }
   ],
   "source": [
    "students = [\n",
    "         {'first_name':  'Michael', 'last_name' : 'Jordan'},\n",
    "         {'first_name' : 'John', 'last_name' : 'Rosales'},\n",
    "         {'first_name' : 'Mark', 'last_name' : 'Guillen'},\n",
    "         {'first_name' : 'KB', 'last_name' : 'Tonel'}\n",
    "    ]\n",
    "def iterateDictionary(students):\n",
    "    for i in range(len(students)):\n",
    "        print(\"first_name - \"+students[i]['first_name']+\", last_name - \"+students[i]['last_name'])\n",
    "iterateDictionary(students)\n",
    "print(\"-------------------------\")"
   ]
  },
  {
   "cell_type": "code",
   "execution_count": 23,
   "id": "7dca19fe-0f67-4e11-82e0-37a677435c8f",
   "metadata": {},
   "outputs": [
    {
     "name": "stdout",
     "output_type": "stream",
     "text": [
      "Michael\n",
      "John\n",
      "Mark\n",
      "KB\n"
     ]
    }
   ],
   "source": [
    "def iterateDictionary2(key_name, some_list):\n",
    "    for i in range(len(some_list)):\n",
    "        print(some_list[i][key_name])\n",
    "iterateDictionary2('first_name',students)\n"
   ]
  },
  {
   "cell_type": "code",
   "execution_count": null,
   "id": "b8743c4b-ba8e-475d-a844-3dc33830b156",
   "metadata": {},
   "outputs": [],
   "source": []
  },
  {
   "cell_type": "code",
   "execution_count": 21,
   "id": "73ffa94d-e5b2-4607-9d28-eb65c35912ca",
   "metadata": {},
   "outputs": [
    {
     "name": "stdout",
     "output_type": "stream",
     "text": [
      "Jordan\n",
      "Rosales\n",
      "Guillen\n",
      "Tonel\n"
     ]
    }
   ],
   "source": [
    "def iterateDictionary2(key_name, some_list):\n",
    "    for i in range(len(some_list)):\n",
    "        print(some_list[i][key_name])\n",
    "iterateDictionary2('last_name',students)"
   ]
  },
  {
   "cell_type": "code",
   "execution_count": 22,
   "id": "99edce9c-7b10-488b-866d-d95558d14fca",
   "metadata": {},
   "outputs": [
    {
     "name": "stdout",
     "output_type": "stream",
     "text": [
      "7 locations\n",
      "San Jose\n",
      "Seattle\n",
      "Dallas\n",
      "Chicago\n",
      "Tulsa\n",
      "DC\n",
      "Burbank\n",
      "\n",
      "8 instructors\n",
      "Michael\n",
      "Amy\n",
      "Eduardo\n",
      "Josh\n",
      "Graham\n",
      "Patrick\n",
      "Minh\n",
      "Devon\n",
      "\n"
     ]
    }
   ],
   "source": [
    "def printInfo(some_dict):\n",
    "    for key in some_dict:\n",
    "        print(len(some_dict[key]),key)\n",
    "        for i in range(len(some_dict[key])):\n",
    "            print(some_dict[key][i])\n",
    "        print(\"\")\n",
    "\n",
    "dojo = {\n",
    "   'locations': ['San Jose', 'Seattle', 'Dallas', 'Chicago', 'Tulsa', 'DC', 'Burbank'],\n",
    "   'instructors': ['Michael', 'Amy', 'Eduardo', 'Josh', 'Graham', 'Patrick', 'Minh', 'Devon']\n",
    "}\n",
    "printInfo(dojo)"
   ]
  },
  {
   "cell_type": "code",
   "execution_count": 24,
   "id": "46453149-291a-45ad-b422-e1b81e80003f",
   "metadata": {},
   "outputs": [
    {
     "name": "stdout",
     "output_type": "stream",
     "text": [
      "[[5, 2, 3], [15, 8, 9]] [{'first_name': 'Michael', 'last_name': 'Bryant'}, {'first_name': 'John', 'last_name': 'Rosales'}] {'basketball': ['Kobe', 'Jordan', 'James', 'Curry'], 'soccer': ['Andres', 'Ronaldo', 'Rooney']} [{'x': 10, 'y': 30}]\n"
     ]
    }
   ],
   "source": [
    "x = [ [5,2,3], [15,8,9] ] \n",
    "students = [\n",
    "     {'first_name':  'Michael', 'last_name' : 'Bryant'},\n",
    "     {'first_name' : 'John', 'last_name' : 'Rosales'}\n",
    "]\n",
    "sports_directory = {\n",
    "    'basketball' : ['Kobe', 'Jordan', 'James', 'Curry'],\n",
    "    'soccer' : ['Andres', 'Ronaldo', 'Rooney']\n",
    "}\n",
    "z = [ {'x': 10, 'y': 30} ]\n",
    "print(x,students,sports_directory,z)\n"
   ]
  },
  {
   "cell_type": "code",
   "execution_count": null,
   "id": "b1d41e2d-85ea-434e-ab80-f9e3231d02b6",
   "metadata": {},
   "outputs": [],
   "source": []
  },
  {
   "cell_type": "code",
   "execution_count": null,
   "id": "39a386d9-927e-4a89-8cb5-d7bbebe6948a",
   "metadata": {},
   "outputs": [],
   "source": []
  }
 ],
 "metadata": {
  "kernelspec": {
   "display_name": "Python 3",
   "language": "python",
   "name": "python3"
  },
  "language_info": {
   "codemirror_mode": {
    "name": "ipython",
    "version": 3
   },
   "file_extension": ".py",
   "mimetype": "text/x-python",
   "name": "python",
   "nbconvert_exporter": "python",
   "pygments_lexer": "ipython3",
   "version": "3.8.8"
  }
 },
 "nbformat": 4,
 "nbformat_minor": 5
}

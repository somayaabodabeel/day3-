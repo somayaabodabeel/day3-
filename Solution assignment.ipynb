{
 "cells": [
  {
   "cell_type": "code",
   "execution_count": 12,
   "id": "5cc29081-d293-4769-b2e5-653366ec5cfe",
   "metadata": {},
   "outputs": [
    {
     "name": "stdout",
     "output_type": "stream",
     "text": [
      "20\n"
     ]
    }
   ],
   "source": [
    "# Q1\n",
    "import numpy as np\n",
    "A = np.array([[1,3,-2],[0,4,7],[-1,2,6]])\n",
    "B = np.array([[0,1],[1,3],[2,1]])\n",
    "print (np.sum(A))"
   ]
  },
  {
   "cell_type": "code",
   "execution_count": 29,
   "id": "e42c8180-f8c4-4f51-b116-32a8b3be2685",
   "metadata": {},
   "outputs": [
    {
     "name": "stdout",
     "output_type": "stream",
     "text": [
      "[[ 1  0 -1]\n",
      " [ 3  4  2]\n",
      " [-2  7  6]]\n",
      "[[0 1 2]\n",
      " [1 3 1]]\n"
     ]
    }
   ],
   "source": [
    "# Q2\n",
    "T = np.transpose(A)\n",
    "print (T)\n",
    "W = np.transpose(B)\n",
    "print (W)"
   ]
  },
  {
   "cell_type": "code",
   "execution_count": 3,
   "id": "f824219b-9864-42b6-82ba-6db14ac80c3e",
   "metadata": {},
   "outputs": [
    {
     "name": "stdout",
     "output_type": "stream",
     "text": [
      "[[ 1.00000000e+00  1.11022302e-16  5.55111512e-17]\n",
      " [-1.94289029e-16  1.00000000e+00 -1.94289029e-16]\n",
      " [-1.66533454e-16 -1.11022302e-16  1.00000000e+00]]\n"
     ]
    }
   ],
   "source": [
    "#Q3\n",
    "print (np.asmatrix(A)*np.asmatrix(A).I)"
   ]
  },
  {
   "cell_type": "code",
   "execution_count": 4,
   "id": "3b6e1254-6322-4653-b310-eb36f7230628",
   "metadata": {},
   "outputs": [
    {
     "name": "stdout",
     "output_type": "stream",
     "text": [
      "[[-1  8]\n",
      " [18 19]\n",
      " [14 11]]\n"
     ]
    }
   ],
   "source": [
    "# Q4 \n",
    "print(np. dot(A,B))"
   ]
  },
  {
   "cell_type": "code",
   "execution_count": 5,
   "id": "d7626eab-4f3d-4641-adbb-e1e81442f05e",
   "metadata": {},
   "outputs": [
    {
     "name": "stdout",
     "output_type": "stream",
     "text": [
      "[[0 1 1]\n",
      " [3 2 1]]\n"
     ]
    }
   ],
   "source": [
    "# Q5\n",
    "C = np.reshape(B,(2,3))\n",
    "print (C)"
   ]
  },
  {
   "cell_type": "code",
   "execution_count": 6,
   "id": "fc18c11e-6eb8-43cd-a521-180e3a3149b3",
   "metadata": {},
   "outputs": [
    {
     "name": "stdout",
     "output_type": "stream",
     "text": [
      "[[-1  6 13]\n",
      " [ 2 19 14]]\n"
     ]
    }
   ],
   "source": [
    "# Q6\n",
    "\n",
    "print(np. dot(C,A))"
   ]
  },
  {
   "cell_type": "code",
   "execution_count": 7,
   "id": "5e95069e-9ec5-4d00-af79-5c628467f2db",
   "metadata": {},
   "outputs": [
    {
     "name": "stdout",
     "output_type": "stream",
     "text": [
      "[[-1  3 -2]\n",
      " [ 0  4  7]\n",
      " [-1  2  6]]\n"
     ]
    }
   ],
   "source": [
    "#Q7\n",
    "D = np.array(A)\n",
    "print (np.where(D ==1,-1,D))"
   ]
  },
  {
   "cell_type": "code",
   "execution_count": 33,
   "id": "748e8a2c-bac2-4cc5-9460-382322cc9531",
   "metadata": {},
   "outputs": [
    {
     "name": "stdout",
     "output_type": "stream",
     "text": [
      "[[ 0  9 11]]\n"
     ]
    }
   ],
   "source": [
    "#Q8\n",
    "#print(np.sum(A,axis=0))#output [0 9 11]\n",
    "s = np.matrix([[0,9,11]])\n",
    "print(s)"
   ]
  },
  {
   "cell_type": "code",
   "execution_count": 35,
   "id": "6e7a7b32-e2be-4e14-b513-edc45958399e",
   "metadata": {},
   "outputs": [
    {
     "name": "stdout",
     "output_type": "stream",
     "text": [
      "[[ 1  0 -1]\n",
      " [ 3  4  2]\n",
      " [-2  7  6]]\n"
     ]
    }
   ],
   "source": [
    "#Q9\n",
    "g = np.matrix([[1,0,-1], [3,4,2], [-2,7,6]])\n",
    "print(g)\n"
   ]
  },
  {
   "cell_type": "code",
   "execution_count": 30,
   "id": "205a6a37-e10d-4f6b-ba59-7fa7ffbe65a5",
   "metadata": {},
   "outputs": [
    {
     "name": "stdout",
     "output_type": "stream",
     "text": [
      "[ 0  9 11]\n"
     ]
    }
   ],
   "source": [
    "#Q10\n",
    "print(np.sqrt(B))"
   ]
  },
  {
   "cell_type": "code",
   "execution_count": null,
   "id": "1f3ce1b7-d766-4147-abc5-918bc35ac056",
   "metadata": {},
   "outputs": [],
   "source": []
  }
 ],
 "metadata": {
  "kernelspec": {
   "display_name": "Python 3",
   "language": "python",
   "name": "python3"
  },
  "language_info": {
   "codemirror_mode": {
    "name": "ipython",
    "version": 3
   },
   "file_extension": ".py",
   "mimetype": "text/x-python",
   "name": "python",
   "nbconvert_exporter": "python",
   "pygments_lexer": "ipython3",
   "version": "3.8.8"
  }
 },
 "nbformat": 4,
 "nbformat_minor": 5
}

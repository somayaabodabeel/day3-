{
 "cells": [
  {
   "cell_type": "code",
   "execution_count": 1,
   "id": "5cc29081-d293-4769-b2e5-653366ec5cfe",
   "metadata": {},
   "outputs": [
    {
     "name": "stdout",
     "output_type": "stream",
     "text": [
      "[[ 2  6 -4]\n",
      " [ 0  8 14]\n",
      " [-2  4 12]]\n"
     ]
    }
   ],
   "source": [
    "# Q1\n",
    "import numpy as np\n",
    "A = np.array([[1,3,-2],[0,4,7],[-1,2,6]])\n",
    "B = np.array([[0,1],[1,3],[2,1]])\n",
    "print(np.add(A,A))"
   ]
  },
  {
   "cell_type": "code",
   "execution_count": 2,
   "id": "e42c8180-f8c4-4f51-b116-32a8b3be2685",
   "metadata": {},
   "outputs": [
    {
     "name": "stdout",
     "output_type": "stream",
     "text": [
      "[[ 1  0 -1]\n",
      " [ 3  4  2]\n",
      " [-2  7  6]]\n",
      "[[0 1 2]\n",
      " [1 3 1]]\n"
     ]
    }
   ],
   "source": [
    "# Q2\n",
    "print(A.T)\n",
    "print(B.T)"
   ]
  },
  {
   "cell_type": "code",
   "execution_count": 3,
   "id": "f824219b-9864-42b6-82ba-6db14ac80c3e",
   "metadata": {},
   "outputs": [
    {
     "name": "stdout",
     "output_type": "stream",
     "text": [
      "[[-0.52631579  1.15789474 -1.52631579]\n",
      " [ 0.36842105 -0.21052632  0.36842105]\n",
      " [-0.21052632  0.26315789 -0.21052632]]\n"
     ]
    }
   ],
   "source": [
    "#Q3\n",
    "A=np.asmatrix(A)\n",
    "print(A.I)"
   ]
  },
  {
   "cell_type": "code",
   "execution_count": 4,
   "id": "3b6e1254-6322-4653-b310-eb36f7230628",
   "metadata": {},
   "outputs": [
    {
     "name": "stdout",
     "output_type": "stream",
     "text": [
      "[[-1  8]\n",
      " [18 19]\n",
      " [14 11]]\n",
      "[[-1  8]\n",
      " [18 19]\n",
      " [14 11]]\n"
     ]
    }
   ],
   "source": [
    "# Q4 \n",
    "print(np.asmatrix(A) * np.asmatrix(B))\n",
    "print(np.dot(A,B))"
   ]
  },
  {
   "cell_type": "code",
   "execution_count": 5,
   "id": "d7626eab-4f3d-4641-adbb-e1e81442f05e",
   "metadata": {},
   "outputs": [
    {
     "name": "stdout",
     "output_type": "stream",
     "text": [
      "[[0 1 1]\n",
      " [3 2 1]]\n"
     ]
    }
   ],
   "source": [
    "# Q5\n",
    "C = np.reshape(B,(2,3))\n",
    "print (C)"
   ]
  },
  {
   "cell_type": "code",
   "execution_count": 6,
   "id": "fc18c11e-6eb8-43cd-a521-180e3a3149b3",
   "metadata": {},
   "outputs": [
    {
     "name": "stdout",
     "output_type": "stream",
     "text": [
      "[[-1  6 13]\n",
      " [ 2 19 14]]\n"
     ]
    }
   ],
   "source": [
    "# Q6\n",
    "\n",
    "print(np. dot(C,A))"
   ]
  },
  {
   "cell_type": "code",
   "execution_count": 7,
   "id": "5e95069e-9ec5-4d00-af79-5c628467f2db",
   "metadata": {},
   "outputs": [
    {
     "name": "stdout",
     "output_type": "stream",
     "text": [
      "[[-1  3 -2]\n",
      " [ 0  4  7]\n",
      " [-1  2  6]]\n"
     ]
    }
   ],
   "source": [
    "#Q7\n",
    "D = np.array(A)\n",
    "print (np.where(D ==1,-1,D))"
   ]
  },
  {
   "cell_type": "code",
   "execution_count": 8,
   "id": "748e8a2c-bac2-4cc5-9460-382322cc9531",
   "metadata": {},
   "outputs": [
    {
     "name": "stdout",
     "output_type": "stream",
     "text": [
      "[[ 1  3 -2]\n",
      " [ 0  4  7]\n",
      " [-1  2  6]]\n",
      "[[ 2]\n",
      " [11]\n",
      " [ 7]]\n"
     ]
    }
   ],
   "source": [
    "#Q8\n",
    "print(A)\n",
    "print(np.sum(A, axis = 1))"
   ]
  },
  {
   "cell_type": "code",
   "execution_count": 9,
   "id": "6e7a7b32-e2be-4e14-b513-edc45958399e",
   "metadata": {},
   "outputs": [
    {
     "name": "stdout",
     "output_type": "stream",
     "text": [
      "[[ 1  3 -2]\n",
      " [ 0  4  7]\n",
      " [-1  2  6]]\n",
      "[[0.         3.         3.66666667]]\n"
     ]
    }
   ],
   "source": [
    "#Q9\n",
    "print(A)\n",
    "print(np.mean(A, axis = 0))\n"
   ]
  },
  {
   "cell_type": "code",
   "execution_count": 10,
   "id": "205a6a37-e10d-4f6b-ba59-7fa7ffbe65a5",
   "metadata": {},
   "outputs": [
    {
     "name": "stdout",
     "output_type": "stream",
     "text": [
      "[[0 1]\n",
      " [1 3]\n",
      " [2 1]]\n",
      "[[0.         1.        ]\n",
      " [1.         1.73205081]\n",
      " [1.41421356 1.        ]]\n"
     ]
    }
   ],
   "source": [
    "#Q10\n",
    "print(B)\n",
    "print(np.sqrt(B))"
   ]
  },
  {
   "cell_type": "code",
   "execution_count": null,
   "id": "1f3ce1b7-d766-4147-abc5-918bc35ac056",
   "metadata": {},
   "outputs": [],
   "source": []
  }
 ],
 "metadata": {
  "kernelspec": {
   "display_name": "Python 3",
   "language": "python",
   "name": "python3"
  },
  "language_info": {
   "codemirror_mode": {
    "name": "ipython",
    "version": 3
   },
   "file_extension": ".py",
   "mimetype": "text/x-python",
   "name": "python",
   "nbconvert_exporter": "python",
   "pygments_lexer": "ipython3",
   "version": "3.8.8"
  }
 },
 "nbformat": 4,
 "nbformat_minor": 5
}

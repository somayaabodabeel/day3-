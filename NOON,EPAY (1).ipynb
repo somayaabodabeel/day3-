{
 "cells": [
  {
   "cell_type": "code",
   "execution_count": 2,
   "id": "30e7b443",
   "metadata": {},
   "outputs": [],
   "source": [
    "import pandas as pd\n",
    "import numpy as np\n",
    "from matplotlib import pyplot as plt"
   ]
  },
  {
   "cell_type": "code",
   "execution_count": 3,
   "id": "a13d5060",
   "metadata": {},
   "outputs": [
    {
     "data": {
      "text/html": [
       "<div>\n",
       "<style scoped>\n",
       "    .dataframe tbody tr th:only-of-type {\n",
       "        vertical-align: middle;\n",
       "    }\n",
       "\n",
       "    .dataframe tbody tr th {\n",
       "        vertical-align: top;\n",
       "    }\n",
       "\n",
       "    .dataframe thead th {\n",
       "        text-align: right;\n",
       "    }\n",
       "</style>\n",
       "<table border=\"1\" class=\"dataframe\">\n",
       "  <thead>\n",
       "    <tr style=\"text-align: right;\">\n",
       "      <th></th>\n",
       "      <th>Price_x</th>\n",
       "      <th>Price_y</th>\n",
       "    </tr>\n",
       "  </thead>\n",
       "  <tbody>\n",
       "    <tr>\n",
       "      <th>0</th>\n",
       "      <td>65.00</td>\n",
       "      <td>44.35</td>\n",
       "    </tr>\n",
       "    <tr>\n",
       "      <th>1</th>\n",
       "      <td>65.00</td>\n",
       "      <td>44.35</td>\n",
       "    </tr>\n",
       "    <tr>\n",
       "      <th>2</th>\n",
       "      <td>65.00</td>\n",
       "      <td>40.79</td>\n",
       "    </tr>\n",
       "    <tr>\n",
       "      <th>3</th>\n",
       "      <td>65.00</td>\n",
       "      <td>40.79</td>\n",
       "    </tr>\n",
       "    <tr>\n",
       "      <th>4</th>\n",
       "      <td>65.00</td>\n",
       "      <td>38.50</td>\n",
       "    </tr>\n",
       "    <tr>\n",
       "      <th>5</th>\n",
       "      <td>65.00</td>\n",
       "      <td>38.50</td>\n",
       "    </tr>\n",
       "    <tr>\n",
       "      <th>6</th>\n",
       "      <td>65.00</td>\n",
       "      <td>38.06</td>\n",
       "    </tr>\n",
       "    <tr>\n",
       "      <th>7</th>\n",
       "      <td>65.00</td>\n",
       "      <td>38.06</td>\n",
       "    </tr>\n",
       "    <tr>\n",
       "      <th>8</th>\n",
       "      <td>65.00</td>\n",
       "      <td>38.14</td>\n",
       "    </tr>\n",
       "    <tr>\n",
       "      <th>9</th>\n",
       "      <td>65.00</td>\n",
       "      <td>38.14</td>\n",
       "    </tr>\n",
       "    <tr>\n",
       "      <th>10</th>\n",
       "      <td>65.00</td>\n",
       "      <td>39.10</td>\n",
       "    </tr>\n",
       "    <tr>\n",
       "      <th>11</th>\n",
       "      <td>65.00</td>\n",
       "      <td>39.10</td>\n",
       "    </tr>\n",
       "    <tr>\n",
       "      <th>12</th>\n",
       "      <td>65.00</td>\n",
       "      <td>39.55</td>\n",
       "    </tr>\n",
       "    <tr>\n",
       "      <th>13</th>\n",
       "      <td>65.00</td>\n",
       "      <td>39.55</td>\n",
       "    </tr>\n",
       "    <tr>\n",
       "      <th>14</th>\n",
       "      <td>65.00</td>\n",
       "      <td>38.22</td>\n",
       "    </tr>\n",
       "    <tr>\n",
       "      <th>15</th>\n",
       "      <td>65.00</td>\n",
       "      <td>38.22</td>\n",
       "    </tr>\n",
       "    <tr>\n",
       "      <th>16</th>\n",
       "      <td>65.00</td>\n",
       "      <td>40.71</td>\n",
       "    </tr>\n",
       "    <tr>\n",
       "      <th>17</th>\n",
       "      <td>65.00</td>\n",
       "      <td>40.71</td>\n",
       "    </tr>\n",
       "    <tr>\n",
       "      <th>18</th>\n",
       "      <td>65.00</td>\n",
       "      <td>39.62</td>\n",
       "    </tr>\n",
       "    <tr>\n",
       "      <th>19</th>\n",
       "      <td>65.00</td>\n",
       "      <td>39.64</td>\n",
       "    </tr>\n",
       "    <tr>\n",
       "      <th>20</th>\n",
       "      <td>67.00</td>\n",
       "      <td>40.23</td>\n",
       "    </tr>\n",
       "    <tr>\n",
       "      <th>21</th>\n",
       "      <td>63.01</td>\n",
       "      <td>38.58</td>\n",
       "    </tr>\n",
       "    <tr>\n",
       "      <th>22</th>\n",
       "      <td>67.00</td>\n",
       "      <td>39.94</td>\n",
       "    </tr>\n",
       "    <tr>\n",
       "      <th>23</th>\n",
       "      <td>68.01</td>\n",
       "      <td>37.90</td>\n",
       "    </tr>\n",
       "    <tr>\n",
       "      <th>24</th>\n",
       "      <td>68.00</td>\n",
       "      <td>36.87</td>\n",
       "    </tr>\n",
       "    <tr>\n",
       "      <th>25</th>\n",
       "      <td>68.00</td>\n",
       "      <td>37.43</td>\n",
       "    </tr>\n",
       "    <tr>\n",
       "      <th>26</th>\n",
       "      <td>70.00</td>\n",
       "      <td>36.49</td>\n",
       "    </tr>\n",
       "    <tr>\n",
       "      <th>27</th>\n",
       "      <td>72.00</td>\n",
       "      <td>37.68</td>\n",
       "    </tr>\n",
       "    <tr>\n",
       "      <th>28</th>\n",
       "      <td>69.47</td>\n",
       "      <td>37.93</td>\n",
       "    </tr>\n",
       "  </tbody>\n",
       "</table>\n",
       "</div>"
      ],
      "text/plain": [
       "    Price_x  Price_y\n",
       "0     65.00    44.35\n",
       "1     65.00    44.35\n",
       "2     65.00    40.79\n",
       "3     65.00    40.79\n",
       "4     65.00    38.50\n",
       "5     65.00    38.50\n",
       "6     65.00    38.06\n",
       "7     65.00    38.06\n",
       "8     65.00    38.14\n",
       "9     65.00    38.14\n",
       "10    65.00    39.10\n",
       "11    65.00    39.10\n",
       "12    65.00    39.55\n",
       "13    65.00    39.55\n",
       "14    65.00    38.22\n",
       "15    65.00    38.22\n",
       "16    65.00    40.71\n",
       "17    65.00    40.71\n",
       "18    65.00    39.62\n",
       "19    65.00    39.64\n",
       "20    67.00    40.23\n",
       "21    63.01    38.58\n",
       "22    67.00    39.94\n",
       "23    68.01    37.90\n",
       "24    68.00    36.87\n",
       "25    68.00    37.43\n",
       "26    70.00    36.49\n",
       "27    72.00    37.68\n",
       "28    69.47    37.93"
      ]
     },
     "execution_count": 3,
     "metadata": {},
     "output_type": "execute_result"
    }
   ],
   "source": [
    "df_NOON = pd.read_csv('NOON Historical Data.csv', parse_dates=True)\n",
    "df_EPAY = pd.read_csv('EPAY Historical Data.csv', parse_dates=True, sep=\",\")\n",
    "mergeTable= pd.merge(df_NOON,df_EPAY,how=\"inner\",on='Date')\n",
    "mergeTable = mergeTable[['Price_x','Price_y']]\n",
    "mergeTable"
   ]
  },
  {
   "cell_type": "code",
   "execution_count": 4,
   "id": "3471f5ec",
   "metadata": {
    "scrolled": true
   },
   "outputs": [
    {
     "name": "stdout",
     "output_type": "stream",
     "text": [
      "65.94793103448276\n",
      "39.212068965517254\n"
     ]
    }
   ],
   "source": [
    "x_bar = np.mean(mergeTable['Price_x'])\n",
    "y_bar = np.mean(mergeTable['Price_y'])\n",
    "print(x_bar)\n",
    "print(y_bar)"
   ]
  },
  {
   "cell_type": "code",
   "execution_count": 5,
   "id": "6d486400",
   "metadata": {},
   "outputs": [
    {
     "name": "stdout",
     "output_type": "stream",
     "text": [
      "    Price_x  Price_y      x_var\n",
      "0     65.00    44.35   0.898573\n",
      "1     65.00    44.35   0.898573\n",
      "2     65.00    40.79   0.898573\n",
      "3     65.00    40.79   0.898573\n",
      "4     65.00    38.50   0.898573\n",
      "5     65.00    38.50   0.898573\n",
      "6     65.00    38.06   0.898573\n",
      "7     65.00    38.06   0.898573\n",
      "8     65.00    38.14   0.898573\n",
      "9     65.00    38.14   0.898573\n",
      "10    65.00    39.10   0.898573\n",
      "11    65.00    39.10   0.898573\n",
      "12    65.00    39.55   0.898573\n",
      "13    65.00    39.55   0.898573\n",
      "14    65.00    38.22   0.898573\n",
      "15    65.00    38.22   0.898573\n",
      "16    65.00    40.71   0.898573\n",
      "17    65.00    40.71   0.898573\n",
      "18    65.00    39.62   0.898573\n",
      "19    65.00    39.64   0.898573\n",
      "20    67.00    40.23   1.106849\n",
      "21    63.01    38.58   8.631439\n",
      "22    67.00    39.94   1.106849\n",
      "23    68.01    37.90   4.252128\n",
      "24    68.00    36.87   4.210987\n",
      "25    68.00    37.43   4.210987\n",
      "26    70.00    36.49  16.419263\n",
      "27    72.00    37.68  36.627539\n",
      "28    69.47    37.93  12.404970\n"
     ]
    }
   ],
   "source": [
    "mergeTable['x_var'] = (mergeTable['Price_x'] - x_bar)**2\n",
    "print(mergeTable)"
   ]
  },
  {
   "cell_type": "code",
   "execution_count": 6,
   "id": "158ff6d0",
   "metadata": {},
   "outputs": [
    {
     "name": "stdout",
     "output_type": "stream",
     "text": [
      "    Price_x  Price_y      x_var     xy_cov\n",
      "0     65.00    44.35   0.898573  -4.870404\n",
      "1     65.00    44.35   0.898573  -4.870404\n",
      "2     65.00    40.79   0.898573  -1.495770\n",
      "3     65.00    40.79   0.898573  -1.495770\n",
      "4     65.00    38.50   0.898573   0.674992\n",
      "5     65.00    38.50   0.898573   0.674992\n",
      "6     65.00    38.06   0.898573   1.092082\n",
      "7     65.00    38.06   0.898573   1.092082\n",
      "8     65.00    38.14   0.898573   1.016247\n",
      "9     65.00    38.14   0.898573   1.016247\n",
      "10    65.00    39.10   0.898573   0.106234\n",
      "11    65.00    39.10   0.898573   0.106234\n",
      "12    65.00    39.55   0.898573  -0.320335\n",
      "13    65.00    39.55   0.898573  -0.320335\n",
      "14    65.00    38.22   0.898573   0.940413\n",
      "15    65.00    38.22   0.898573   0.940413\n",
      "16    65.00    40.71   0.898573  -1.419935\n",
      "17    65.00    40.71   0.898573  -1.419935\n",
      "18    65.00    39.62   0.898573  -0.386690\n",
      "19    65.00    39.64   0.898573  -0.405649\n",
      "20    67.00    40.23   1.106849   1.070934\n",
      "21    63.01    38.58   8.631439   1.856975\n",
      "22    67.00    39.94   1.106849   0.765834\n",
      "23    68.01    37.90   4.252128  -2.705577\n",
      "24    68.00    36.87   4.210987  -4.806087\n",
      "25    68.00    37.43   4.210987  -3.656928\n",
      "26    70.00    36.49  16.419263 -11.030011\n",
      "27    72.00    37.68  36.627539  -9.272187\n",
      "28    69.47    37.93  12.404970  -4.515535\n"
     ]
    }
   ],
   "source": [
    "mergeTable['xy_cov'] = (mergeTable['Price_x'] - x_bar) * (mergeTable['Price_y'] - y_bar)\n",
    "print(mergeTable)"
   ]
  },
  {
   "cell_type": "code",
   "execution_count": 7,
   "id": "46f452bf",
   "metadata": {},
   "outputs": [
    {
     "name": "stdout",
     "output_type": "stream",
     "text": [
      "64.88878669286532\n",
      "-0.38934834383086653\n"
     ]
    }
   ],
   "source": [
    "beta = mergeTable['xy_cov'].sum() / mergeTable['x_var'].sum()\n",
    "alpha = y_bar - beta * x_bar\n",
    "print(alpha)\n",
    "print(beta)"
   ]
  },
  {
   "cell_type": "code",
   "execution_count": 8,
   "id": "e7d222ec",
   "metadata": {},
   "outputs": [
    {
     "name": "stdout",
     "output_type": "stream",
     "text": [
      "0     39.581144\n",
      "1     39.581144\n",
      "2     39.581144\n",
      "3     39.581144\n",
      "4     39.581144\n",
      "5     39.581144\n",
      "6     39.581144\n",
      "7     39.581144\n",
      "8     39.581144\n",
      "9     39.581144\n",
      "10    39.581144\n",
      "11    39.581144\n",
      "12    39.581144\n",
      "13    39.581144\n",
      "14    39.581144\n",
      "15    39.581144\n",
      "16    39.581144\n",
      "17    39.581144\n",
      "18    39.581144\n",
      "19    39.581144\n",
      "20    38.802448\n",
      "21    40.355948\n",
      "22    38.802448\n",
      "23    38.409206\n",
      "24    38.413099\n",
      "25    38.413099\n",
      "26    37.634403\n",
      "27    36.855706\n",
      "28    37.840757\n",
      "Name: Price_x, dtype: float64\n"
     ]
    }
   ],
   "source": [
    "y_pred = alpha + beta * mergeTable['Price_x']\n",
    "print(y_pred)"
   ]
  },
  {
   "cell_type": "code",
   "execution_count": 9,
   "id": "79a2dd2f",
   "metadata": {},
   "outputs": [
    {
     "data": {
      "image/png": "[encoded data removed]",
      "text/plain": [
       "<Figure size 432x288 with 1 Axes>"
      ]
     },
     "metadata": {
      "needs_background": "light"
     },
     "output_type": "display_data"
    }
   ],
   "source": [
    "plt.scatter(mergeTable['Price_x'], mergeTable['Price_y'], color='r')\n",
    "plt.plot(mergeTable['Price_x'], y_pred)\n",
    "plt.show()"
   ]
  },
  {
   "cell_type": "code",
   "execution_count": null,
   "id": "892600e9",
   "metadata": {},
   "outputs": [],
   "source": []
  }
 ],
 "metadata": {
  "kernelspec": {
   "display_name": "Python 3",
   "language": "python",
   "name": "python3"
  },
  "language_info": {
   "codemirror_mode": {
    "name": "ipython",
    "version": 3
   },
   "file_extension": ".py",
   "mimetype": "text/x-python",
   "name": "python",
   "nbconvert_exporter": "python",
   "pygments_lexer": "ipython3",
   "version": "3.8.8"
  }
 },
 "nbformat": 4,
 "nbformat_minor": 5
}
